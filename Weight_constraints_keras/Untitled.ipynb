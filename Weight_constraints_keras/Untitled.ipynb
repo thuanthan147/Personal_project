{
 "cells": [
  {
   "cell_type": "markdown",
   "metadata": {},
   "source": [
    "<b>Max norm constraints</b> is another form of regularization. It's purpose is to enforce an absolute upper bound on the magnitude of the weight vector for every neuron. It then use projected gradient descent to enforce the constraint. In practice, after update parameters as normal, it then enforces the constraint by clamping the weight vector $\\vec{w}$ of every neuron to satisfy ${\\lVert \\vec{w} \\rVert}_2 < c$ with c is the order of 3 or 4.\n",
    "\n",
    "Source: https://stats.stackexchange.com/questions/257996/what-is-maxnorm-constraint-how-is-it-useful-in-convolutional-neural-networks"
   ]
  },
  {
   "cell_type": "markdown",
   "metadata": {},
   "source": [
    "There are different vetor norms to use. In <b>keras.contraints</b>, there are:\n",
    "\n",
    "-  Maximum norm(max_norm): to force weights to have a magnitude at or below a given limit\n",
    "\n",
    "- Non-negative norm (non_neg): to force weights to have a positive magnitude.\n",
    "\n",
    "- Unit norm (unit_norm): to force weights to have a positive magnitude\n",
    "\n",
    "- Min-Max norm (min_max_norm): to force weights to have a magnitude between a range\n",
    "\n",
    "All of this project ideas belong to https://machinelearningmastery.com/how-to-reduce-overfitting-in-deep-neural-networks-with-weight-constraints-in-keras/"
   ]
  },
  {
   "cell_type": "markdown",
   "metadata": {},
   "source": [
    "# Binary Classification Problem"
   ]
  },
  {
   "cell_type": "code",
   "execution_count": 16,
   "metadata": {},
   "outputs": [],
   "source": [
    "from sklearn.datasets import make_moons\n",
    "from matplotlib import pyplot\n",
    "from pandas import DataFrame\n",
    "from keras.layers import Dense\n",
    "from keras.models import Sequential\n",
    "from keras.constraints import unit_norm\n",
    "from keras.constraints import min_max_norm\n",
    "from keras.constraints import max_norm\n",
    "from keras.constraints import non_neg"
   ]
  },
  {
   "cell_type": "code",
   "execution_count": 9,
   "metadata": {},
   "outputs": [],
   "source": [
    "X, y = make_moons(n_samples=100, noise=0.2, random_state=1)"
   ]
  },
  {
   "cell_type": "code",
   "execution_count": 10,
   "metadata": {},
   "outputs": [
    {
     "data": {
      "image/png": "[encoded data removed]",
      "text/plain": [
       "<Figure size 432x288 with 1 Axes>"
      ]
     },
     "metadata": {},
     "output_type": "display_data"
    }
   ],
   "source": [
    "df = DataFrame(dict(x=X[:,0], y=X[:,1], label=y))\n",
    "colors = {0:'red', 1:'blue'}\n",
    "fig, ax = pyplot.subplots()\n",
    "grouped = df.groupby('label')\n",
    "for key, group in grouped:\n",
    "    group.plot(ax=ax, kind='scatter', x='x', y='y', label=key, color=colors[key])\n",
    "pyplot.show()"
   ]
  },
  {
   "cell_type": "markdown",
   "metadata": {},
   "source": [
    "make_moons create a number of clusters which have moon shape in each class, which is non seperatable by a line\n",
    "\n",
    "With as little as 100 data points, our NN model will prone to overfit, which is a perfect example for our normalization method"
   ]
  },
  {
   "cell_type": "markdown",
   "metadata": {},
   "source": [
    "## Overfit Multilayer Perceptron"
   ]
  },
  {
   "cell_type": "code",
   "execution_count": 11,
   "metadata": {},
   "outputs": [],
   "source": [
    "n_train = 30\n",
    "trainX, testX = X[:n_train, :], X[n_train:, :]\n",
    "trainy, testy = y[:n_train], y[n_train:]"
   ]
  },
  {
   "cell_type": "code",
   "execution_count": 12,
   "metadata": {},
   "outputs": [],
   "source": [
    "def MP_model():\n",
    "    model = Sequential()\n",
    "    model.add(Dense(500, input_dim=2, activation='relu'))\n",
    "    model.add(Dense(1, activation='sigmoid'))\n",
    "    model.compile(loss='binary_crossentropy', optimizer='adam', \n",
    "                  metrics=['accuracy'])\n",
    "    return model"
   ]
  },
  {
   "cell_type": "code",
   "execution_count": 14,
   "metadata": {},
   "outputs": [
    {
     "name": "stdout",
     "output_type": "stream",
     "text": [
      "Train: 1.000, Test: 0.914\n"
     ]
    }
   ],
   "source": [
    "# fit model\n",
    "model = MP_model()\n",
    "history = model.fit(trainX, trainy, validation_data=(testX, testy), \n",
    "                    epochs=4000, verbose=0)\n",
    "# evaluate\n",
    "_, train_acc = model.evaluate(trainX, trainy, verbose=0)\n",
    "_, test_acc = model.evaluate(testX, testy, verbose=0)\n",
    "print('Train: %.3f, Test: %.3f' % (train_acc, test_acc))"
   ]
  },
  {
   "cell_type": "code",
   "execution_count": 29,
   "metadata": {},
   "outputs": [
    {
     "data": {
      "image/png": "[encoded data removed]",
      "text/plain": [
       "<Figure size 432x288 with 1 Axes>"
      ]
     },
     "metadata": {},
     "output_type": "display_data"
    }
   ],
   "source": [
    "pyplot.plot(history.history['acc'], label='train')\n",
    "pyplot.plot(history.history['val_acc'], label='test')\n",
    "pyplot.legend()\n",
    "pyplot.savefig(\"none_norm.jpeg\")\n",
    "pyplot.show()"
   ]
  },
  {
   "cell_type": "markdown",
   "metadata": {},
   "source": [
    "## Overfit Multilayer Perceptron with Weight Constraint"
   ]
  },
  {
   "cell_type": "code",
   "execution_count": 17,
   "metadata": {},
   "outputs": [],
   "source": [
    "def MP_model_unit_norm():\n",
    "    model = Sequential()\n",
    "    model.add(Dense(500, input_dim=2, activation='relu'\n",
    "                   , kernel_constraint=unit_norm()))\n",
    "    model.add(Dense(1, activation='sigmoid'))\n",
    "    model.compile(loss='binary_crossentropy', optimizer='adam', \n",
    "                  metrics=['accuracy'])\n",
    "    return model\n",
    "def MP_model_min_max_norm():\n",
    "    model = Sequential()\n",
    "    model.add(Dense(500, input_dim=2, activation='relu'\n",
    "                   , kernel_constraint=min_max_norm()))\n",
    "    model.add(Dense(1, activation='sigmoid'))\n",
    "    model.compile(loss='binary_crossentropy', optimizer='adam', \n",
    "                  metrics=['accuracy'])\n",
    "    return model\n",
    "def MP_model_max_norm():\n",
    "    model = Sequential()\n",
    "    model.add(Dense(500, input_dim=2, activation='relu'\n",
    "                   , kernel_constraint=max_norm()))\n",
    "    model.add(Dense(1, activation='sigmoid'))\n",
    "    model.compile(loss='binary_crossentropy', optimizer='adam', \n",
    "                  metrics=['accuracy'])\n",
    "    return model\n"
   ]
  },
  {
   "cell_type": "code",
   "execution_count": 18,
   "metadata": {},
   "outputs": [],
   "source": [
    "# define models\n",
    "unit_model = MP_model_unit_norm()\n",
    "min_max_model = MP_model_min_max_norm()\n",
    "max_model = MP_model_max_norm()\n",
    "\n",
    "# fit\n",
    "history_unit = unit_model.fit(trainX, trainy, \n",
    "                         validation_data=(testX, testy), \n",
    "                         epochs=4000, verbose=0)\n",
    "history_min_max = min_max_model.fit(trainX, trainy, \n",
    "                         validation_data=(testX, testy), \n",
    "                         epochs=4000, verbose=0)\n",
    "history_max= max_model.fit(trainX, trainy, \n",
    "                         validation_data=(testX, testy), \n",
    "                         epochs=4000, verbose=0)"
   ]
  },
  {
   "cell_type": "code",
   "execution_count": 22,
   "metadata": {},
   "outputs": [
    {
     "name": "stdout",
     "output_type": "stream",
     "text": [
      "Train: 1.000, Test: 0.943\n"
     ]
    }
   ],
   "source": [
    "# evaluate\n",
    "_, train_acc_unit = unit_model.evaluate(trainX, trainy, verbose=0)\n",
    "_, test_acc_unit= unit_model.evaluate(testX, testy, verbose=0)\n",
    "print('Train: %.3f, Test: %.3f' % (train_acc_unit, test_acc_unit))"
   ]
  },
  {
   "cell_type": "code",
   "execution_count": 30,
   "metadata": {},
   "outputs": [
    {
     "data": {
      "image/png": "[encoded data removed]",
      "text/plain": [
       "<Figure size 432x288 with 1 Axes>"
      ]
     },
     "metadata": {},
     "output_type": "display_data"
    }
   ],
   "source": [
    "pyplot.plot(history_unit.history['acc'], label='train')\n",
    "pyplot.plot(history_unit.history['val_acc'], label='test')\n",
    "pyplot.legend()\n",
    "pyplot.savefig(\"unit_norm.jpeg\")\n",
    "pyplot.show()"
   ]
  },
  {
   "cell_type": "code",
   "execution_count": 24,
   "metadata": {},
   "outputs": [
    {
     "name": "stdout",
     "output_type": "stream",
     "text": [
      "Train: 1.000, Test: 0.914\n"
     ]
    }
   ],
   "source": [
    "# evaluate\n",
    "_, train_acc_min_max = min_max_model.evaluate(trainX, trainy, verbose=0)\n",
    "_, test_acc_min_max= min_max_model.evaluate(testX, testy, verbose=0)\n",
    "print('Train: %.3f, Test: %.3f' % (train_acc_min_max, test_acc_min_max))"
   ]
  },
  {
   "cell_type": "code",
   "execution_count": 32,
   "metadata": {},
   "outputs": [
    {
     "data": {
      "image/png": "[encoded data removed]",
      "text/plain": [
       "<Figure size 432x288 with 1 Axes>"
      ]
     },
     "metadata": {},
     "output_type": "display_data"
    }
   ],
   "source": [
    "pyplot.plot(history_min_max.history['acc'], label='train')\n",
    "pyplot.plot(history_min_max.history['val_acc'], label='test')\n",
    "pyplot.legend()\n",
    "pyplot.savefig(\"min_max_norm.jpeg\")\n",
    "pyplot.show()"
   ]
  },
  {
   "cell_type": "code",
   "execution_count": 26,
   "metadata": {},
   "outputs": [
    {
     "name": "stdout",
     "output_type": "stream",
     "text": [
      "Train: 1.000, Test: 0.914\n"
     ]
    }
   ],
   "source": [
    "# evaluate\n",
    "_, train_acc_max = max_model.evaluate(trainX, trainy, verbose=0)\n",
    "_, test_acc_max= max_model.evaluate(testX, testy, verbose=0)\n",
    "print('Train: %.3f, Test: %.3f' % (train_acc_max, test_acc_max))"
   ]
  },
  {
   "cell_type": "code",
   "execution_count": 33,
   "metadata": {},
   "outputs": [
    {
     "data": {
      "image/png": "[encoded data removed]",
      "text/plain": [
       "<Figure size 432x288 with 1 Axes>"
      ]
     },
     "metadata": {},
     "output_type": "display_data"
    }
   ],
   "source": [
    "pyplot.plot(history_max.history['acc'], label='train')\n",
    "pyplot.plot(history_max.history['val_acc'], label='test')\n",
    "pyplot.legend()\n",
    "pyplot.savefig(\"max_norm.jpeg\")\n",
    "pyplot.show()"
   ]
  },
  {
   "cell_type": "markdown",
   "metadata": {},
   "source": [
    "# Later extensions"
   ]
  },
  {
   "cell_type": "markdown",
   "metadata": {},
   "source": [
    "- Visualize and reporting weight norm: update the weight then demonstrate that the constraint help to minimize the magnitude\n",
    "- Put constrain on ouput layer: Update the example to add constraint to the output layer of the model and compare result\n",
    "- Put constrain on Bias\n",
    "- Repeat evaluation: repeat multiple time then report the mean to show the effect"
   ]
  },
  {
   "cell_type": "code",
   "execution_count": null,
   "metadata": {},
   "outputs": [],
   "source": []
  }
 ],
 "metadata": {
  "kernelspec": {
   "display_name": "Python [conda env:py36]",
   "language": "python",
   "name": "conda-env-py36-py"
  },
  "language_info": {
   "codemirror_mode": {
    "name": "ipython",
    "version": 3
   },
   "file_extension": ".py",
   "mimetype": "text/x-python",
   "name": "python",
   "nbconvert_exporter": "python",
   "pygments_lexer": "ipython3",
   "version": "3.6.5"
  }
 },
 "nbformat": 4,
 "nbformat_minor": 2
}
